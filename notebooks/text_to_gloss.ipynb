{
 "cells": [
  {
   "cell_type": "code",
   "execution_count": 1,
   "id": "initial_id",
   "metadata": {
    "collapsed": true,
    "ExecuteTime": {
     "end_time": "2024-07-25T18:40:47.782517Z",
     "start_time": "2024-07-25T18:40:38.707066Z"
    }
   },
   "outputs": [],
   "source": [
    "import spacy\n",
    "from nltk.stem.snowball import SnowballStemmer\n",
    "from textblob import TextBlob\n",
    "import nltk\n",
    "from nltk.corpus import wordnet as wn"
   ]
  },
  {
   "cell_type": "code",
   "execution_count": 2,
   "outputs": [
    {
     "name": "stderr",
     "output_type": "stream",
     "text": [
      "[nltk_data] Downloading package wordnet to\n",
      "[nltk_data]     /Users/abdoulayebalde/nltk_data...\n",
      "[nltk_data]   Package wordnet is already up-to-date!\n",
      "[nltk_data] Downloading package omw-1.4 to\n",
      "[nltk_data]     /Users/abdoulayebalde/nltk_data...\n",
      "[nltk_data]   Package omw-1.4 is already up-to-date!\n"
     ]
    }
   ],
   "source": [
    "nltk.download('wordnet')\n",
    "nltk.download('omw-1.4')\n",
    "\n",
    "nlp = spacy.load(\"fr_core_news_sm\")\n",
    "stemmer = SnowballStemmer(\"french\")\n"
   ],
   "metadata": {
    "collapsed": false,
    "ExecuteTime": {
     "end_time": "2024-07-25T18:54:58.465522Z",
     "start_time": "2024-07-25T18:54:54.941389Z"
    }
   },
   "id": "374d9a0449efb544"
  },
  {
   "cell_type": "code",
   "execution_count": 7,
   "outputs": [],
   "source": [
    "def process_clause_version_two(clause):\n",
    "    doc = nlp(clause)\n",
    "    filtered_tokens = [token for token in doc if\n",
    "                       token.pos_ in {\"NOUN\", \"VERB\", \"ADJ\", \"ADV\", \"NUM\", \"PRON\"} and token.pos_ != \"DET\"]\n",
    "\n",
    "    subject, verb, obj, time, location, others = [], [], [], [], [], []\n",
    "\n",
    "    for token in filtered_tokens:\n",
    "        if \"subj\" in token.dep_:\n",
    "            subject.append(token.lemma_)\n",
    "        elif \"obj\" in token.dep_:\n",
    "            obj.append(token.lemma_)\n",
    "        elif token.pos_ == \"VERB\":\n",
    "            morph = token.morph.get(\"Tense\")\n",
    "            if morph:\n",
    "                time.append(morph[0].lower())\n",
    "            verb.append(token.lemma_)\n",
    "        elif token.dep_ in {\"advmod\", \"npadvmod\"} and token.pos_ == \"ADV\":\n",
    "            time.append(token.lemma_)\n",
    "        elif token.dep_ == \"obl\" and token.ent_type_ == \"LOC\":\n",
    "            location.append(token.lemma_)\n",
    "        else:\n",
    "            others.append(token.lemma_)\n",
    "    \n",
    "    print(\"subject: \", subject)\n",
    "    print(\"verb: \", verb)\n",
    "    print(\"object: \", obj)\n",
    "    print(\"time: \", time)\n",
    "    print(\"location: \", location)\n",
    "    print(\"Others: \", others)\n",
    "\n",
    "    gloss_sequence = time + location + subject + verb + obj + others\n",
    "\n",
    "    return \" \".join(gloss_sequence)\n",
    "\n",
    "\n",
    "def text_to_gloss(text):\n",
    "    clauses = text.split(\" et \")\n",
    "    processed_clauses = [process_clause_version_two(clause) for clause in clauses]\n",
    "    return \" et \".join(processed_clauses)"
   ],
   "metadata": {
    "collapsed": false,
    "ExecuteTime": {
     "end_time": "2024-07-25T21:54:01.052172Z",
     "start_time": "2024-07-25T21:54:01.049704Z"
    }
   },
   "id": "6c7c3d7074f542fd"
  },
  {
   "cell_type": "code",
   "execution_count": 9,
   "outputs": [
    {
     "name": "stdout",
     "output_type": "stream",
     "text": [
      "Bonjour, ce matin je vais à l'école et le soir je suis au terrain de Basketball.\n",
      "subject:  ['matin', 'je']\n",
      "verb:  ['aller']\n",
      "object:  []\n",
      "time:  ['pres']\n",
      "location:  []\n",
      "Others:  ['école']\n",
      "subject:  ['soir', 'je']\n",
      "verb:  []\n",
      "object:  []\n",
      "time:  []\n",
      "location:  []\n",
      "Others:  ['terrain']\n"
     ]
    },
    {
     "data": {
      "text/plain": "'pres matin je aller école et soir je terrain'"
     },
     "execution_count": 9,
     "metadata": {},
     "output_type": "execute_result"
    }
   ],
   "source": [
    "text = \"Bonjour, ce matin je vais à l'école et le soir je suis au terrain de Basketball.\"\n",
    "print(text)\n",
    "gloss_text = text_to_gloss(text)\n",
    "gloss_text"
   ],
   "metadata": {
    "collapsed": false,
    "ExecuteTime": {
     "end_time": "2024-07-25T21:54:19.451264Z",
     "start_time": "2024-07-25T21:54:19.412370Z"
    }
   },
   "id": "4ee13f94f6fff23e"
  },
  {
   "cell_type": "code",
   "execution_count": null,
   "outputs": [],
   "source": [
    "def get_synonyms(word):\n",
    "    synonyms = set()\n",
    "    for syn in wn.synsets(word, lang='fra'):\n",
    "        for lemma in syn.lemmas('fra'):\n",
    "            synonyms.add(lemma.name())\n",
    "    return synonyms"
   ],
   "metadata": {
    "collapsed": false
   },
   "id": "cab91add67893486"
  },
  {
   "cell_type": "code",
   "execution_count": 11,
   "outputs": [
    {
     "name": "stdout",
     "output_type": "stream",
     "text": [
      "pres synonyme set()\n",
      "matin synonyme {'matin', 'aube', 'aurore', 'bonjour', 'avant-midi', 'morrow', 'lendemain', 'matinée', 'première_lumière'}\n",
      "je synonyme {'je', 'Moi', 'iode'}\n",
      "aller synonyme {'tenir_le_coup', 'mener', 'sortir_avec', 'cohabiter', 'continuer', 'repousser', 'vouloir', 'effectuer', 'courir', 'bien', 'Adam', 'accouchement', 'durer', 'ecstasy', 'obtenir', 'en_forme', 'conduire', 'chevaucher', 'bélier', 'rouler', 'prendre', 'distribuer', 'venir', 'voyage', 'remorquer', 'go', 'écouler', 'appartenir', 'est-ce_que', 'marcher', 'travailler', 'viser', 'soutenir', 'reculer', 'asseoir', 'arriver', 'tour', 'procéder', 'tendre', 'piloter', 'force', 'devenir', 'bien_aller', 'accommoder', 'hier', 'disparaître', 'partir', 'déplacer', 'moteur', 'appartenir_à', 'représenter', 'contraindre', 'aboutir', 'permettre', 'tomber_en_panne', 'se_marier', 'fin', 'voyager', 'dé_à_jouer', 'destiner', 'affecter', 'chasser', 'traverser', 'négliger', 'fonctionner', 'fusil', 'faillir', 'évaluer', 'aller', 'extase', 'passer', 'dire', 'rendre', 'abandonner', 'vivre', 'avoir', 'consacrer', 'satisfaisant', 'tourner', 'voyagiste', 'tour-opérateur', 'mourir', 'proverbe', 'volonté', 'être', 'circuler', 'amener', 'diriger', 'survivre', 'départir', 'évoluer', 'résider', 'bon', 'faire', 'imposer', 'demeurer', 'tester', 'allouer', 'pousser', 'XTC', 'testament'}\n",
      "école synonyme {'université', 'collège', 'élève', 'académie', 'scolarité', 'enseignement', 'école'}\n",
      "et synonyme {'poids', 'et', 'pondération'}\n",
      "soir synonyme {'soirée', 'nuit', 'soir', 'après-midi'}\n",
      "je synonyme {'je', 'Moi', 'iode'}\n",
      "terrain synonyme {'terrain', 'point', 'bit', 'aérodrome', 'peu', 'terre', 'piste', 'spot', 'champ'}\n"
     ]
    }
   ],
   "source": [
    "for word in gloss_text.split(\" \"):\n",
    "    print(word + \" synonyme \" + str(get_synonyms(word)))"
   ],
   "metadata": {
    "collapsed": false,
    "ExecuteTime": {
     "end_time": "2024-07-25T22:09:49.335715Z",
     "start_time": "2024-07-25T22:09:49.331152Z"
    }
   },
   "id": "ec917b2ac596a18d"
  },
  {
   "cell_type": "code",
   "execution_count": 13,
   "outputs": [
    {
     "name": "stdout",
     "output_type": "stream",
     "text": [
      "gloss text:  pres matin je aller école et soir je terrain\n",
      "Stemming: pre matin je aller écol et soir je terrain\n"
     ]
    }
   ],
   "source": [
    "stemmed_gloss = ' '.join([stemmer.stem(word) for word in gloss_text.split()])\n",
    "print(\"gloss text: \", gloss_text)\n",
    "print(\"Stemming:\", stemmed_gloss)"
   ],
   "metadata": {
    "collapsed": false,
    "ExecuteTime": {
     "end_time": "2024-07-25T22:13:32.526275Z",
     "start_time": "2024-07-25T22:13:32.522560Z"
    }
   },
   "id": "687addfa4d75a8f4"
  },
  {
   "cell_type": "code",
   "execution_count": null,
   "outputs": [],
   "source": [],
   "metadata": {
    "collapsed": false
   },
   "id": "88568b82dca4bb97"
  }
 ],
 "metadata": {
  "kernelspec": {
   "display_name": "Python 3",
   "language": "python",
   "name": "python3"
  },
  "language_info": {
   "codemirror_mode": {
    "name": "ipython",
    "version": 2
   },
   "file_extension": ".py",
   "mimetype": "text/x-python",
   "name": "python",
   "nbconvert_exporter": "python",
   "pygments_lexer": "ipython2",
   "version": "2.7.6"
  }
 },
 "nbformat": 4,
 "nbformat_minor": 5
}
