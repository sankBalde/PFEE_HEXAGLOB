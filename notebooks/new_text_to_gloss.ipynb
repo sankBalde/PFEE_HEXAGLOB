{
 "cells": [
  {
   "cell_type": "code",
   "execution_count": 1,
   "id": "initial_id",
   "metadata": {
    "collapsed": true,
    "ExecuteTime": {
     "end_time": "2024-09-11T22:34:55.334825Z",
     "start_time": "2024-09-11T22:34:55.328758Z"
    }
   },
   "outputs": [],
   "source": [
    "import sys\n",
    "import os\n",
    "sys.path.append(os.path.abspath(os.path.join(os.getcwd(), '..')))\n",
    "\n",
    "from text_to_gloss_dir.rules import *"
   ]
  },
  {
   "cell_type": "code",
   "execution_count": 2,
   "outputs": [
    {
     "name": "stdout",
     "output_type": "stream",
     "text": [
      "[('Je', 'je-IX'), ('école', 'école'), ('vais', 'aller')]\n"
     ]
    }
   ],
   "source": [
    "text = \"Je vais à l'école\"\n",
    "\n",
    "response = text_to_gloss(text, \"fr\")\n",
    "\n",
    "print(response)"
   ],
   "metadata": {
    "collapsed": false,
    "ExecuteTime": {
     "end_time": "2024-09-11T22:34:58.927613Z",
     "start_time": "2024-09-11T22:34:55.336612Z"
    }
   },
   "id": "3df2a71b63196059"
  },
  {
   "cell_type": "code",
   "execution_count": 3,
   "outputs": [
    {
     "name": "stdout",
     "output_type": "stream",
     "text": [
      "La phrase est:  Le chat dort sur le canapé.\n",
      "Le gloss:  [('chat', 'chat'), ('canapé', 'canapé'), ('dort', 'dormir')]\n",
      "--------------------------------------\n",
      "La phrase est:  Il fait beau aujourd'hui.\n",
      "Le gloss:  [('Il', 'il-IX'), ('beau', 'beau'), ('fait', 'faire'), (\"aujourd'hui\", \"aujourd'hui\")]\n",
      "--------------------------------------\n",
      "La phrase est:  Marie lit un livre.\n",
      "Le gloss:  [('Marie', 'Marie'), ('lit', 'lit'), ('livre', 'livre')]\n",
      "--------------------------------------\n",
      "La phrase est:  Je vais au marché.\n",
      "Le gloss:  [('Je', 'je-IX'), ('marché', 'marché'), ('vais', 'aller')]\n",
      "--------------------------------------\n",
      "La phrase est:  Les enfants jouent dans le parc.\n",
      "Le gloss:  [('enfants', 'enfant'), ('parc', 'parc'), ('jouent', 'jouer')]\n",
      "--------------------------------------\n",
      "La phrase est:  Bien que le soleil brille aujourd'hui, une pluie légère est prévue pour cet après-midi.\n",
      "Le gloss:  [('Bien', 'bien'), ('que', 'que'), ('soleil', 'soleil'), ('brille', 'briller'), (\"aujourd'hui\", \"aujourd'hui\"), ('pluie', 'pluie'), ('légère', 'léger'), ('est', 'être'), ('prévue', 'prévoir'), ('après-midi', 'après-midi')]\n",
      "--------------------------------------\n",
      "La phrase est:  Si tu finis ton travail avant midi, nous pourrions aller au cinéma ensemble.\n",
      "Le gloss:  [('Si', 'si'), ('tu', 'tu-IX'), ('ton', 'ton-IX'), ('travail', 'travail'), ('finis', 'finir'), ('midi', 'midi'), ('nous', 'nous-IX'), ('pourrions', 'pouvoir'), ('aller', 'aller'), ('cinéma', 'cinéma'), ('ensemble', 'ensembl')]\n",
      "--------------------------------------\n",
      "La phrase est:  Les fleurs que j'ai achetées hier sont déjà fanées, probablement à cause de la chaleur intense.\n",
      "Le gloss:  [(\"j'\", \"j'-IX\"), ('que', 'que-IX'), ('ai', 'acheter'), ('achetées', 'hier'), ('hier', 'fleur'), ('fleurs', 'être'), ('sont', 'déjà'), ('déjà', 'fané'), ('fanées', 'probablement'), ('probablement', 'cause'), ('cause', 'chaleur'), ('chaleur', 'intense')]\n",
      "--------------------------------------\n",
      "La phrase est:  Après avoir terminé son repas, il est allé se promener dans le parc, où il a rencontré un vieil ami d'enfance.\n",
      "Le gloss:  [('avoir', 'terminer'), ('terminé', 'son-IX'), ('son', 'repas'), ('repas', 'il-IX'), ('il', 'être'), ('est', 'aller'), ('allé', 'se-IX'), ('se', 'promener'), ('promener', 'parc'), ('parc', 'où-IX'), ('où', 'il-IX'), ('il', 'vieux'), ('a', 'ami'), ('vieil', 'enfance'), ('ami', 'rencontrer')]\n",
      "--------------------------------------\n",
      "La phrase est:  Même si j'avais très envie de partir en vacances, j'ai finalement décidé de rester pour aider ma famille.\n",
      "Le gloss:  [('Même', 'même'), ('si', 'si'), (\"j'\", \"j'-IX\"), ('très', 'très'), ('envie', 'envie'), ('avais', 'avoir'), ('vacances', 'vacance'), ('partir', 'partir'), (\"j'\", \"j'-IX\"), ('ai', 'finalement'), ('finalement', 'décider'), ('décidé', 'rester'), ('rester', 'aider'), ('aider', 'ma-IX'), ('ma', 'famille')]\n",
      "--------------------------------------\n"
     ]
    }
   ],
   "source": [
    "phrases = [\n",
    "    \"Le chat dort sur le canapé.\",\n",
    "    \"Il fait beau aujourd'hui.\",\n",
    "    \"Marie lit un livre.\",\n",
    "    \"Je vais au marché.\",\n",
    "    \"Les enfants jouent dans le parc.\",\n",
    "    \"Bien que le soleil brille aujourd'hui, une pluie légère est prévue pour cet après-midi.\",\n",
    "    \"Si tu finis ton travail avant midi, nous pourrions aller au cinéma ensemble.\",\n",
    "    \"Les fleurs que j'ai achetées hier sont déjà fanées, probablement à cause de la chaleur intense.\",\n",
    "    \"Après avoir terminé son repas, il est allé se promener dans le parc, où il a rencontré un vieil ami d'enfance.\",\n",
    "    \"Même si j'avais très envie de partir en vacances, j'ai finalement décidé de rester pour aider ma famille.\"\n",
    "]\n",
    "for ph in phrases:\n",
    "    print(\"La phrase est: \", ph)\n",
    "    print(\"Le gloss: \", text_to_gloss(ph, \"fr\"))\n",
    "    print(\"--------------------------------------\")"
   ],
   "metadata": {
    "collapsed": false,
    "ExecuteTime": {
     "end_time": "2024-09-11T22:34:58.980873Z",
     "start_time": "2024-09-11T22:34:58.926809Z"
    }
   },
   "id": "28b73008e9c45948"
  },
  {
   "cell_type": "code",
   "execution_count": 4,
   "outputs": [
    {
     "name": "stdout",
     "output_type": "stream",
     "text": [
      "La phrase est:  Le chat dort sur le canapé.\n",
      "Le gloss:  [('chat', 'chat'), ('canapé', 'canapé'), ('dort', 'dormir'), ('.', '.')]\n",
      "--------------------------------------\n",
      "La phrase est:  Il fait beau aujourd'hui.\n",
      "Le gloss:  [('Il', 'il-IX'), ('beau', 'beau'), ('fait', 'faire'), (\"aujourd'hui\", \"aujourd'hui\"), ('.', '.')]\n",
      "--------------------------------------\n",
      "La phrase est:  Marie lit un livre.\n",
      "Le gloss:  [('Marie', 'Marie'), ('lit', 'lit'), ('livre', 'livre'), ('.', '.')]\n",
      "--------------------------------------\n",
      "La phrase est:  Je vais au marché.\n",
      "Le gloss:  [('Je', 'je-IX'), ('marché', 'marché'), ('vais', 'aller'), ('.', '.')]\n",
      "--------------------------------------\n",
      "La phrase est:  Les enfants jouent dans le parc.\n",
      "Le gloss:  [('enfants', 'enfant'), ('parc', 'parc'), ('jouent', 'jouer'), ('.', '.')]\n",
      "--------------------------------------\n",
      "La phrase est:  Bien que le soleil brille aujourd'hui, une pluie légère est prévue pour cet après-midi.\n",
      "Le gloss:  [('Bien', 'bien'), ('que', 'que'), ('soleil', 'soleil'), ('brille', 'briller'), (\"aujourd'hui\", \"aujourd'hui\"), (',', ','), ('pluie', 'pluie'), ('légère', 'léger'), ('est', 'être'), ('prévue', 'prévoir'), ('après-midi', 'après-midi'), ('.', '.')]\n",
      "--------------------------------------\n",
      "La phrase est:  Si tu finis ton travail avant midi, nous pourrions aller au cinéma ensemble.\n",
      "Le gloss:  [('Si', 'si'), ('tu', 'tu-IX'), ('ton', 'ton-IX'), ('travail', 'travail'), ('finis', 'finir'), ('midi', 'midi'), (',', ','), ('nous', 'nous-IX'), ('pourrions', 'pouvoir'), ('.', '.'), ('aller', 'aller'), ('cinéma', 'cinéma'), ('ensemble', 'ensembl')]\n",
      "--------------------------------------\n",
      "La phrase est:  Les fleurs que j'ai achetées hier sont déjà fanées, probablement à cause de la chaleur intense.\n",
      "Le gloss:  [(\"j'\", \"j'-IX\"), ('que', 'que-IX'), ('ai', 'acheter'), ('achetées', 'hier'), ('hier', 'fleur'), ('fleurs', 'être'), ('sont', 'déjà'), ('déjà', 'fané'), ('fanées', ','), (',', 'probablement'), ('probablement', 'cause'), ('cause', 'chaleur'), ('chaleur', 'intense'), ('intense', '.')]\n",
      "--------------------------------------\n",
      "La phrase est:  Après avoir terminé son repas, il est allé se promener dans le parc, où il a rencontré un vieil ami d'enfance.\n",
      "Le gloss:  [('avoir', 'terminer'), ('terminé', 'son-IX'), ('son', 'repas'), ('repas', ','), (',', 'il-IX'), ('il', 'être'), ('est', 'aller'), ('allé', '.'), ('.', 'se-IX'), ('se', 'promener'), ('promener', 'parc'), ('parc', ','), (',', 'où-IX'), ('où', 'il-IX'), ('il', 'vieux'), ('a', 'ami'), ('vieil', 'enfance'), ('ami', 'rencontrer')]\n",
      "--------------------------------------\n",
      "La phrase est:  Même si j'avais très envie de partir en vacances, j'ai finalement décidé de rester pour aider ma famille.\n",
      "Le gloss:  [('Même', 'même'), ('si', 'si'), (\"j'\", \"j'-IX\"), ('très', 'très'), ('envie', 'envie'), ('avais', 'avoir'), ('vacances', 'vacance'), ('partir', 'partir'), (',', ','), (\"j'\", \"j'-IX\"), ('ai', 'finalement'), ('finalement', 'décider'), ('décidé', '.'), ('.', 'rester'), ('rester', 'aider'), ('aider', 'ma-IX'), ('ma', 'famille')]\n",
      "--------------------------------------\n"
     ]
    }
   ],
   "source": [
    "phrases = [\n",
    "    \"Le chat dort sur le canapé.\",\n",
    "    \"Il fait beau aujourd'hui.\",\n",
    "    \"Marie lit un livre.\",\n",
    "    \"Je vais au marché.\",\n",
    "    \"Les enfants jouent dans le parc.\",\n",
    "    \"Bien que le soleil brille aujourd'hui, une pluie légère est prévue pour cet après-midi.\",\n",
    "    \"Si tu finis ton travail avant midi, nous pourrions aller au cinéma ensemble.\",\n",
    "    \"Les fleurs que j'ai achetées hier sont déjà fanées, probablement à cause de la chaleur intense.\",\n",
    "    \"Après avoir terminé son repas, il est allé se promener dans le parc, où il a rencontré un vieil ami d'enfance.\",\n",
    "    \"Même si j'avais très envie de partir en vacances, j'ai finalement décidé de rester pour aider ma famille.\"\n",
    "]\n",
    "for ph in phrases:\n",
    "    print(\"La phrase est: \", ph)\n",
    "    print(\"Le gloss: \", text_to_gloss(ph, \"fr\", True))\n",
    "    print(\"--------------------------------------\")"
   ],
   "metadata": {
    "collapsed": false,
    "ExecuteTime": {
     "end_time": "2024-09-11T22:34:59.027463Z",
     "start_time": "2024-09-11T22:34:58.981866Z"
    }
   },
   "id": "99774bc96ca78970"
  },
  {
   "cell_type": "code",
   "execution_count": 4,
   "outputs": [],
   "source": [],
   "metadata": {
    "collapsed": false,
    "ExecuteTime": {
     "end_time": "2024-09-11T22:34:59.027603Z",
     "start_time": "2024-09-11T22:34:59.023756Z"
    }
   },
   "id": "4c32e4d859363265"
  }
 ],
 "metadata": {
  "kernelspec": {
   "display_name": "Python 3",
   "language": "python",
   "name": "python3"
  },
  "language_info": {
   "codemirror_mode": {
    "name": "ipython",
    "version": 2
   },
   "file_extension": ".py",
   "mimetype": "text/x-python",
   "name": "python",
   "nbconvert_exporter": "python",
   "pygments_lexer": "ipython2",
   "version": "2.7.6"
  }
 },
 "nbformat": 4,
 "nbformat_minor": 5
}
