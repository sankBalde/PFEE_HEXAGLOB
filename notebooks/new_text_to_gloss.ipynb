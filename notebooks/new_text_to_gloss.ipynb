{
 "cells": [
  {
   "cell_type": "code",
   "execution_count": 3,
   "id": "initial_id",
   "metadata": {
    "collapsed": true,
    "ExecuteTime": {
     "end_time": "2024-09-11T20:19:58.666247Z",
     "start_time": "2024-09-11T20:19:58.649142Z"
    }
   },
   "outputs": [],
   "source": [
    "from rules import *"
   ]
  },
  {
   "cell_type": "code",
   "execution_count": 4,
   "outputs": [
    {
     "name": "stdout",
     "output_type": "stream",
     "text": [
      "[('Bonjour', 'Bonjour'), ('matin', 'matin'), ('je', 'je-IX'), ('suis', 'être'), ('parti', 'partir'), ('école', 'école')]\n"
     ]
    }
   ],
   "source": [
    "text = \"Bonjour, ce matin je suis parti à l'école.\"\n",
    "\n",
    "response = text_to_gloss(text, \"fr\")\n",
    "\n",
    "print(response)"
   ],
   "metadata": {
    "collapsed": false,
    "ExecuteTime": {
     "end_time": "2024-09-11T20:20:05.215725Z",
     "start_time": "2024-09-11T20:20:00.177904Z"
    }
   },
   "id": "3df2a71b63196059"
  },
  {
   "cell_type": "code",
   "execution_count": 11,
   "outputs": [
    {
     "name": "stdout",
     "output_type": "stream",
     "text": [
      "La phrase est:  Le chat dort sur le canapé.\n",
      "Le gloss:  [('chat', 'chat'), ('canapé', 'canapé'), ('dort', 'dormir')]\n",
      "--------------------------------------\n",
      "La phrase est:  Il fait beau aujourd'hui.\n",
      "Le gloss:  [('Il', 'il-IX'), ('beau', 'beau'), ('fait', 'faire'), (\"aujourd'hui\", \"aujourd'hui\")]\n",
      "--------------------------------------\n",
      "La phrase est:  Marie lit un livre.\n",
      "Le gloss:  [('Marie', 'Marie'), ('lit', 'lit'), ('livre', 'livre')]\n",
      "--------------------------------------\n",
      "La phrase est:  Je vais au marché.\n",
      "Le gloss:  [('Je', 'je-IX'), ('marché', 'marché'), ('vais', 'aller')]\n",
      "--------------------------------------\n",
      "La phrase est:  Les enfants jouent dans le parc.\n",
      "Le gloss:  [('enfants', 'enfant'), ('parc', 'parc'), ('jouent', 'jouer')]\n",
      "--------------------------------------\n",
      "La phrase est:  Bien que le soleil brille aujourd'hui, une pluie légère est prévue pour cet après-midi.\n",
      "Le gloss:  [('Bien', 'bien'), ('que', 'que'), ('soleil', 'soleil'), ('brille', 'briller'), (\"aujourd'hui\", \"aujourd'hui\"), ('pluie', 'pluie'), ('légère', 'léger'), ('est', 'être'), ('prévue', 'prévoir'), ('après-midi', 'après-midi')]\n",
      "--------------------------------------\n",
      "La phrase est:  Si tu finis ton travail avant midi, nous pourrions aller au cinéma ensemble.\n",
      "Le gloss:  [('Si', 'si'), ('tu', 'tu-IX'), ('ton', 'ton-IX'), ('travail', 'travail'), ('finis', 'finir'), ('midi', 'midi'), ('nous', 'nous-IX'), ('pourrions', 'pouvoir'), ('aller', 'aller'), ('cinéma', 'cinéma'), ('ensemble', 'ensembl')]\n",
      "--------------------------------------\n",
      "La phrase est:  Les fleurs que j'ai achetées hier sont déjà fanées, probablement à cause de la chaleur intense.\n",
      "Le gloss:  [(\"j'\", \"j'-IX\"), ('que', 'que-IX'), ('ai', 'acheter'), ('achetées', 'hier'), ('hier', 'fleur'), ('fleurs', 'être'), ('sont', 'déjà'), ('déjà', 'fané'), ('fanées', 'probablement'), ('probablement', 'cause'), ('cause', 'chaleur'), ('chaleur', 'intense')]\n",
      "--------------------------------------\n",
      "La phrase est:  Après avoir terminé son repas, il est allé se promener dans le parc, où il a rencontré un vieil ami d'enfance.\n",
      "Le gloss:  [('avoir', 'terminer'), ('terminé', 'son-IX'), ('son', 'repas'), ('repas', 'il-IX'), ('il', 'être'), ('est', 'aller'), ('allé', 'se-IX'), ('se', 'promener'), ('promener', 'parc'), ('parc', 'où-IX'), ('où', 'il-IX'), ('il', 'vieux'), ('a', 'ami'), ('vieil', 'enfance'), ('ami', 'rencontrer')]\n",
      "--------------------------------------\n",
      "La phrase est:  Même si j'avais très envie de partir en vacances, j'ai finalement décidé de rester pour aider ma famille.\n",
      "Le gloss:  [('Même', 'même'), ('si', 'si'), (\"j'\", \"j'-IX\"), ('très', 'très'), ('envie', 'envie'), ('avais', 'avoir'), ('vacances', 'vacance'), ('partir', 'partir'), (\"j'\", \"j'-IX\"), ('ai', 'finalement'), ('finalement', 'décider'), ('décidé', 'rester'), ('rester', 'aider'), ('aider', 'ma-IX'), ('ma', 'famille')]\n",
      "--------------------------------------\n"
     ]
    }
   ],
   "source": [
    "phrases = [\n",
    "    \"Le chat dort sur le canapé.\",\n",
    "    \"Il fait beau aujourd'hui.\",\n",
    "    \"Marie lit un livre.\",\n",
    "    \"Je vais au marché.\",\n",
    "    \"Les enfants jouent dans le parc.\",\n",
    "    \"Bien que le soleil brille aujourd'hui, une pluie légère est prévue pour cet après-midi.\",\n",
    "    \"Si tu finis ton travail avant midi, nous pourrions aller au cinéma ensemble.\",\n",
    "    \"Les fleurs que j'ai achetées hier sont déjà fanées, probablement à cause de la chaleur intense.\",\n",
    "    \"Après avoir terminé son repas, il est allé se promener dans le parc, où il a rencontré un vieil ami d'enfance.\",\n",
    "    \"Même si j'avais très envie de partir en vacances, j'ai finalement décidé de rester pour aider ma famille.\"\n",
    "]\n",
    "for ph in phrases:\n",
    "    print(\"La phrase est: \", ph)\n",
    "    print(\"Le gloss: \", text_to_gloss(ph, \"fr\"))\n",
    "    print(\"--------------------------------------\")"
   ],
   "metadata": {
    "collapsed": false,
    "ExecuteTime": {
     "end_time": "2024-09-11T20:35:40.552910Z",
     "start_time": "2024-09-11T20:35:40.499837Z"
    }
   },
   "id": "28b73008e9c45948"
  },
  {
   "cell_type": "code",
   "execution_count": 9,
   "outputs": [
    {
     "name": "stdout",
     "output_type": "stream",
     "text": [
      "La phrase est:  Le chat dort sur le canapé.\n",
      "Le gloss:  [('chat', 'chat'), ('canapé', 'canapé'), ('dort', 'dormir'), ('.', '.')]\n",
      "--------------------------------------\n",
      "La phrase est:  Il fait beau aujourd'hui.\n",
      "Le gloss:  [('Il', 'il-IX'), ('beau', 'beau'), ('fait', 'faire'), (\"aujourd'hui\", \"aujourd'hui\"), ('.', '.')]\n",
      "--------------------------------------\n",
      "La phrase est:  Marie lit un livre.\n",
      "Le gloss:  [('Marie', 'Marie'), ('lit', 'lit'), ('livre', 'livre'), ('.', '.')]\n",
      "--------------------------------------\n",
      "La phrase est:  Je vais au marché.\n",
      "Le gloss:  [('Je', 'je-IX'), ('marché', 'marché'), ('vais', 'aller'), ('.', '.')]\n",
      "--------------------------------------\n",
      "La phrase est:  Les enfants jouent dans le parc.\n",
      "Le gloss:  [('enfants', 'enfant'), ('parc', 'parc'), ('jouent', 'jouer'), ('.', '.')]\n",
      "--------------------------------------\n",
      "La phrase est:  Bien que le soleil brille aujourd'hui, une pluie légère est prévue pour cet après-midi.\n",
      "Le gloss:  [('Bien', 'bien'), ('que', 'que'), ('soleil', 'soleil'), ('brille', 'briller'), (\"aujourd'hui\", \"aujourd'hui\"), (',', ','), ('pluie', 'pluie'), ('légère', 'léger'), ('est', 'être'), ('prévue', 'prévoir'), ('après-midi', 'après-midi'), ('.', '.')]\n",
      "--------------------------------------\n",
      "La phrase est:  Si tu finis ton travail avant midi, nous pourrions aller au cinéma ensemble.\n",
      "Le gloss:  [('Si', 'si'), ('tu', 'tu-IX'), ('ton', 'ton-IX'), ('travail', 'travail'), ('finis', 'finir'), ('midi', 'midi'), (',', ','), ('nous', 'nous-IX'), ('pourrions', 'pouvoir'), ('.', '.'), ('aller', 'aller'), ('cinéma', 'cinéma'), ('ensemble', 'ensembl')]\n",
      "--------------------------------------\n",
      "La phrase est:  Les fleurs que j'ai achetées hier sont déjà fanées, probablement à cause de la chaleur intense.\n",
      "Le gloss:  [(\"j'\", \"j'-IX\"), ('que', 'que-IX'), ('ai', 'acheter'), ('achetées', 'hier'), ('hier', 'fleur'), ('fleurs', 'être'), ('sont', 'déjà'), ('déjà', 'fané'), ('fanées', ','), (',', 'probablement'), ('probablement', 'cause'), ('cause', 'chaleur'), ('chaleur', 'intense'), ('intense', '.')]\n",
      "--------------------------------------\n",
      "La phrase est:  Après avoir terminé son repas, il est allé se promener dans le parc, où il a rencontré un vieil ami d'enfance.\n",
      "Le gloss:  [('avoir', 'terminer'), ('terminé', 'son-IX'), ('son', 'repas'), ('repas', ','), (',', 'il-IX'), ('il', 'être'), ('est', 'aller'), ('allé', '.'), ('.', 'se-IX'), ('se', 'promener'), ('promener', 'parc'), ('parc', ','), (',', 'où-IX'), ('où', 'il-IX'), ('il', 'vieux'), ('a', 'ami'), ('vieil', 'enfance'), ('ami', 'rencontrer')]\n",
      "--------------------------------------\n",
      "La phrase est:  Même si j'avais très envie de partir en vacances, j'ai finalement décidé de rester pour aider ma famille.\n",
      "Le gloss:  [('Même', 'même'), ('si', 'si'), (\"j'\", \"j'-IX\"), ('très', 'très'), ('envie', 'envie'), ('avais', 'avoir'), ('vacances', 'vacance'), ('partir', 'partir'), (',', ','), (\"j'\", \"j'-IX\"), ('ai', 'finalement'), ('finalement', 'décider'), ('décidé', '.'), ('.', 'rester'), ('rester', 'aider'), ('aider', 'ma-IX'), ('ma', 'famille')]\n",
      "--------------------------------------\n"
     ]
    }
   ],
   "source": [
    "phrases = [\n",
    "    \"Le chat dort sur le canapé.\",\n",
    "    \"Il fait beau aujourd'hui.\",\n",
    "    \"Marie lit un livre.\",\n",
    "    \"Je vais au marché.\",\n",
    "    \"Les enfants jouent dans le parc.\",\n",
    "    \"Bien que le soleil brille aujourd'hui, une pluie légère est prévue pour cet après-midi.\",\n",
    "    \"Si tu finis ton travail avant midi, nous pourrions aller au cinéma ensemble.\",\n",
    "    \"Les fleurs que j'ai achetées hier sont déjà fanées, probablement à cause de la chaleur intense.\",\n",
    "    \"Après avoir terminé son repas, il est allé se promener dans le parc, où il a rencontré un vieil ami d'enfance.\",\n",
    "    \"Même si j'avais très envie de partir en vacances, j'ai finalement décidé de rester pour aider ma famille.\"\n",
    "]\n",
    "for ph in phrases:\n",
    "    print(\"La phrase est: \", ph)\n",
    "    print(\"Le gloss: \", text_to_gloss(ph, \"fr\", True))\n",
    "    print(\"--------------------------------------\")"
   ],
   "metadata": {
    "collapsed": false,
    "ExecuteTime": {
     "end_time": "2024-09-11T20:33:18.843246Z",
     "start_time": "2024-09-11T20:33:18.787278Z"
    }
   },
   "id": "99774bc96ca78970"
  },
  {
   "cell_type": "code",
   "execution_count": null,
   "outputs": [],
   "source": [],
   "metadata": {
    "collapsed": false
   },
   "id": "4c32e4d859363265"
  }
 ],
 "metadata": {
  "kernelspec": {
   "display_name": "Python 3",
   "language": "python",
   "name": "python3"
  },
  "language_info": {
   "codemirror_mode": {
    "name": "ipython",
    "version": 2
   },
   "file_extension": ".py",
   "mimetype": "text/x-python",
   "name": "python",
   "nbconvert_exporter": "python",
   "pygments_lexer": "ipython2",
   "version": "2.7.6"
  }
 },
 "nbformat": 4,
 "nbformat_minor": 5
}
